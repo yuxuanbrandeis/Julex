{
 "cells": [
  {
   "cell_type": "code",
   "execution_count": null,
   "id": "d2fca0c7",
   "metadata": {},
   "outputs": [],
   "source": [
    "import re\n",
    "from bs4 import BeautifulSoup\n",
    "import os\n",
    "import pandas as pd\n",
    "import requests"
   ]
  },
  {
   "cell_type": "code",
   "execution_count": null,
   "id": "3bd093dd",
   "metadata": {},
   "outputs": [],
   "source": [
    "file_path = ''\n",
    "with open(file_path, 'r', encoding= 'utf-8') as file:\n",
    "    file_content = file.read()"
   ]
  },
  {
   "cell_type": "code",
   "execution_count": null,
   "id": "a67d99dc",
   "metadata": {},
   "outputs": [],
   "source": [
    "#use regular expression to search for MDA header \n",
    "pattern = re.compile(r'\\bDiscussion\\s+and\\s+Analysis\\s+of\\s+Financial\\s+Condition[s]?\\b', re.IGNORECASE | re.DOTALL)\n",
    "matches = re.finditer(pattern, file_content)\n",
    "indices = [match.start() for match in matches]\n",
    "\n",
    "#look to store first and second occurance in the list \n",
    "if len(indices) >= 1:\n",
    "    start_index_1 = indices[0]\n",
    "    if len(indices) >= 2:\n",
    "        start_index_2 = indices[1]\n",
    "    else:\n",
    "        start_index_2 = -1\n",
    "else:\n",
    "    # If no matches found for the plain text pattern, check the bold HTML format\n",
    "    pattern_html = re.compile(r'<b>\\s*Management\\s+Discussion\\s+and\\s+Analysis\\s*</b>', re.IGNORECASE | re.DOTALL)\n",
    "    matches_html = re.finditer(pattern_html, file_content)\n",
    "    indices_html = [match.start() for match in matches_html]\n",
    "\n",
    "    if len(indices_html) >= 1:\n",
    "        start_index_1 = indices_html[0]\n",
    "        if len(indices_html) >= 2:\n",
    "            start_index_2 = indices_html[1]\n",
    "        else:\n",
    "            start_index_2 = -1\n",
    "    else:\n",
    "        # Handle the case when no occurrence is found for both patterns\n",
    "        start_index_1 = -1\n",
    "        start_index_2 = -1\n"
   ]
  },
  {
   "cell_type": "code",
   "execution_count": null,
   "id": "7b89e5cf",
   "metadata": {},
   "outputs": [],
   "source": [
    "#use same logic on the next header after MDA, which usually contains pattern listed below \n",
    "pattern = re.compile(r\"Disclosure[s]? About Market Risk\", re.IGNORECASE)\n",
    "matches = re.finditer(pattern, file_content)\n",
    "indices = [match.start() for match in matches]\n",
    "\n",
    "if len(indices) >= 1:\n",
    "    end_index_1 = indices[0]\n",
    "    if len(indices) >= 2:\n",
    "        end_index_2 = indices[1]\n",
    "    else:\n",
    "        end_index_2 = -1\n",
    "else:\n",
    "    end_index_1 = -1\n",
    "    end_index_2 = -1\n",
    "    \n",
    "#if pattern earlier wasnt found, search this this pattern below for the next header                        \n",
    "if end_index_1 == -1:\n",
    "    pattern = re.compile(r\"Control[s]? and Procedure[s]?\", re.IGNORECASE)\n",
    "    matches = re.finditer(pattern, file_content)\n",
    "    indices = [match.start() for match in matches]\n",
    "                            \n",
    "    if len(indices) >= 1:\n",
    "        end_index_1 = indices[0]\n",
    "        if len(indices) >= 2:\n",
    "            end_index_2 = indices[1]\n",
    "        else:\n",
    "            end_index_2 = -1\n",
    "    else:\n",
    "        end_index_1 = -1\n",
    "        end_index_2 = -1\n",
    "        \n",
    "if end_index_2==-1 and start_index_2==-1 and start_index_1<end_index_1:\n",
    "    extracted_text = file_content[start_index_1:end_index_1]\n",
    "elif start_index_2<end_index_2:\n",
    "    extracted_text = file_content[start_index_2:end_index_2] #store everything between second mda header occurance and second next header occurance\n",
    "else:\n",
    "    extracted_text=\"\" # store nothing \n",
    "if start_index_1==-1:\n",
    "    extracted_text=''\n",
    "    \n",
    "html_text = extracted_text\n",
    "soup = BeautifulSoup(html_text, 'html.parser')\n",
    "tables = soup.find_all('table')\n",
    "for table in tables:\n",
    "    table.decompose()\n",
    "    \n",
    "modified_html_text = str(soup)\n",
    "                            \n",
    "soup = BeautifulSoup(modified_html_text, 'html.parser')\n",
    "text = soup.get_text()\n",
    "                            "
   ]
  },
  {
   "cell_type": "code",
   "execution_count": null,
   "id": "8ad29a61",
   "metadata": {},
   "outputs": [],
   "source": [
    "string = text\n",
    "clean_string = ''.join(string.replace('\\n', ' . ').replace('\\u200b', ' ').replace('\\xa0', ' ').replace('&nbsp;',' ').replace('&NBSP;', ' ').replace('&LT;', 'LT').replace('&#60;', 'LT').replace('&QUOT;', ''))\n",
    "                            \n",
    "clean_string = re.sub(r\"(?i)table of contents\", \"\", clean_string)\n",
    "clean_string = re.sub(r\"\\bquantitative and Qualitative\\b\", \"\", clean_string, flags=re.IGNORECASE).strip()\n",
    "            \n",
    "clean_string = re.sub(r\"\\s*(?:item\\s*7a\\.?|item\\s*4\\.?|item\\s*3\\.?|item\\s*8\\.?|item\\s+7a\\.?|item\\s+4\\.?|item\\s+3\\.?|item\\s+8\\.?)\\s*$\", \"\", clean_string, flags=re.IGNORECASE)\n",
    "clean_string = \"Management's \" + clean_string\n",
    "                            \n",
    "clean_string =  re.sub(r\"[•;]\", \" . \", clean_string)\n",
    "clean_string =  re.sub(r'\\s*\\.\\s*(\\.\\s*)*', '. ', clean_string)\n",
    "clean_string = clean_string.strip()"
   ]
  },
  {
   "cell_type": "code",
   "execution_count": null,
   "id": "c2a42850",
   "metadata": {
    "scrolled": false
   },
   "outputs": [],
   "source": [
    "print(clean_string)"
   ]
  },
  {
   "cell_type": "code",
   "execution_count": null,
   "id": "8ab00320",
   "metadata": {},
   "outputs": [],
   "source": [
    "def count_words(input_string):\n",
    "    # Remove leading and trailing whitespaces (optional)\n",
    "    input_string = input_string.strip()\n",
    "\n",
    "    # Split the string into words based on spaces (you can use other delimiters if needed)\n",
    "    words_list = input_string.split()\n",
    "\n",
    "    # Count the number of words in the list\n",
    "    word_count = len(words_list)\n",
    "\n",
    "    return word_count"
   ]
  },
  {
   "cell_type": "code",
   "execution_count": null,
   "id": "bb8a9654",
   "metadata": {},
   "outputs": [],
   "source": [
    "num_words= count_words(clean_string)\n",
    "num_words"
   ]
  },
  {
   "cell_type": "code",
   "execution_count": null,
   "id": "644fb11c",
   "metadata": {},
   "outputs": [],
   "source": []
  }
 ],
 "metadata": {
  "kernelspec": {
   "display_name": "Python 3 (ipykernel)",
   "language": "python",
   "name": "python3"
  },
  "language_info": {
   "codemirror_mode": {
    "name": "ipython",
    "version": 3
   },
   "file_extension": ".py",
   "mimetype": "text/x-python",
   "name": "python",
   "nbconvert_exporter": "python",
   "pygments_lexer": "ipython3",
   "version": "3.9.13"
  }
 },
 "nbformat": 4,
 "nbformat_minor": 5
}
